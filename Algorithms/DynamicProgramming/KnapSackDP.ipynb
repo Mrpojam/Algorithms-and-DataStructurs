{
 "cells": [
  {
   "cell_type": "markdown",
   "id": "232f1897",
   "metadata": {},
   "source": [
    "# KnapSack Problem"
   ]
  },
  {
   "cell_type": "markdown",
   "id": "387e3888",
   "metadata": {},
   "source": [
    "## BruteForce approach "
   ]
  },
  {
   "cell_type": "markdown",
   "id": "282bd0d4",
   "metadata": {},
   "source": [
    "### idea\n",
    "check all the possible subsets of existing rocks"
   ]
  },
  {
   "cell_type": "markdown",
   "id": "999bd586",
   "metadata": {},
   "source": [
    "### Timecomplexity\n",
    "\n",
    "choose a subset => O(2^n)\n",
    "\n",
    "check a subset => O(n)\n",
    "\n",
    "merge => O(C(n, 1)*1 + C(n, 2)*2 + ... + C(n, n)*n!)"
   ]
  },
  {
   "cell_type": "markdown",
   "id": "864df5fd",
   "metadata": {},
   "source": [
    "## DynamicProgramming approach"
   ]
  },
  {
   "cell_type": "markdown",
   "id": "caf718b2",
   "metadata": {},
   "source": [
    "### idea\n",
    "\n",
    "if dp[n][W] means best answer for n rocks and maximum W TotalWeight:\n",
    "\n",
    "    dp[i][j] = max (dp[i-1][j], dp[i-1][j-w[i]] + value[i]) if w[i] <= k\n",
    "\n",
    "    else dp[i][j] = dp[i-1][j]\n",
    "    \n",
    "### Timecomplexity\n",
    "\n",
    "we need 2 loops to update our dp table with O(nk)"
   ]
  },
  {
   "cell_type": "code",
   "execution_count": 2,
   "id": "c7154d6f",
   "metadata": {},
   "outputs": [],
   "source": [
    "from IPython.display import clear_output\n",
    "import time"
   ]
  },
  {
   "cell_type": "code",
   "execution_count": 22,
   "id": "bb6299e4",
   "metadata": {},
   "outputs": [],
   "source": [
    "def KnapSack (Weights, Values, TotalWeight):\n",
    "    \n",
    "    #init \n",
    "    n = len(Weights)\n",
    "    k = len(Weights)\n",
    "    dp = [[0 for i in range(TotalWeight+1)] for j in range (n+1)]\n",
    "    \n",
    "    #update dp\n",
    "    for i in range(1, n):\n",
    "        for j in range(TotalWeight+1):\n",
    "            clear_output()\n",
    "\n",
    "            if (Weights[i] <= j):\n",
    "                dp[i][j] = max(dp[i-1][j], dp[i-1][j-Weights[i]] + Values[i])\n",
    "            else:\n",
    "                dp[i][j] = dp[i-1][j]\n",
    "                \n",
    "            #print the dp table\n",
    "            for x in range(n):\n",
    "                print(dp[x])\n",
    "            time.sleep(1)\n",
    "    \n",
    "    #extract chosen rocks\n",
    "    rocks = []\n",
    "    w = TotalWeight\n",
    "    i = n\n",
    "    res = dp[n-1][w]\n",
    "    while i > 0 and res > 0:\n",
    "        if res == dp[i-1][w]:\n",
    "            i -= 1\n",
    "            continue\n",
    "        else:\n",
    "            rocks.append((i, Weights[i], Values[i]))\n",
    "            res -= Values[i]\n",
    "            w -= Weights[i]\n",
    "            i -= 1\n",
    "            \n",
    "    return (dp[n-1][TotalWeight], rocks)"
   ]
  },
  {
   "cell_type": "code",
   "execution_count": 20,
   "id": "6c2558ab",
   "metadata": {},
   "outputs": [
    {
     "name": "stdout",
     "output_type": "stream",
     "text": [
      "[0, 0, 0, 0, 0, 0, 0, 0, 0, 0, 0, 0, 0, 0, 0, 0, 0, 0, 0, 0, 0]\n",
      "[0, 4, 4, 4, 4, 4, 4, 4, 4, 4, 4, 4, 4, 4, 4, 4, 4, 4, 4, 4, 4]\n",
      "[0, 5, 9, 9, 9, 9, 9, 9, 9, 9, 9, 9, 9, 9, 9, 9, 9, 9, 9, 9, 9]\n",
      "[0, 5, 9, 9, 9, 9, 9, 9, 9, 9, 12, 17, 21, 21, 21, 21, 21, 21, 21, 21, 21]\n",
      "[0, 5, 9, 9, 9, 9, 9, 9, 9, 9, 12, 17, 21, 21, 21, 21, 21, 21, 21, 21, 21]\n",
      "[0, 5, 9, 9, 9, 9, 9, 9, 9, 9, 12, 17, 21, 21, 21, 21, 21, 25, 30, 34, 34]\n"
     ]
    },
    {
     "data": {
      "text/plain": [
       "(34, [(5, 17, 25), (2, 1, 5), (1, 1, 4)])"
      ]
     },
     "execution_count": 20,
     "metadata": {},
     "output_type": "execute_result"
    }
   ],
   "source": [
    "KnapSack([0, 1, 1, 10, 14, 17], [0, 4 ,5, 12, 2, 25], 20)"
   ]
  }
 ],
 "metadata": {
  "kernelspec": {
   "display_name": "Python 3",
   "language": "python",
   "name": "python3"
  },
  "language_info": {
   "codemirror_mode": {
    "name": "ipython",
    "version": 3
   },
   "file_extension": ".py",
   "mimetype": "text/x-python",
   "name": "python",
   "nbconvert_exporter": "python",
   "pygments_lexer": "ipython3",
   "version": "3.8.8"
  }
 },
 "nbformat": 4,
 "nbformat_minor": 5
}
