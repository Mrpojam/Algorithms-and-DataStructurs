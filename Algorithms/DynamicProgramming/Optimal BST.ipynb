{
 "cells": [
  {
   "cell_type": "markdown",
   "id": "38500fcf",
   "metadata": {},
   "source": [
    "# Optimal Binary Search Tree\n",
    "## Dynamic Programming"
   ]
  },
  {
   "cell_type": "markdown",
   "id": "7c1d6ece",
   "metadata": {},
   "source": [
    "### dp[i][j] = Optimal cost of binary search tree that can be formed from keys[i] to keys[j].\n",
    "dp[0][n-1] will store the resultant cost\n",
    "### T(n) = O(n^3)"
   ]
  },
  {
   "cell_type": "code",
   "execution_count": 43,
   "id": "5d4d25fa",
   "metadata": {},
   "outputs": [],
   "source": [
    "def optimal_bst (keys, freq, n):\n",
    "    \n",
    "    dp = [[0 for i in range(n)] for i in range(n)]\n",
    "    sum = [0 for i in range(n+2)]\n",
    "   \n",
    "    for i in range (n):\n",
    "        dp[i][i] = freq[i]\n",
    "        \n",
    "    for i in range(1, n+1):\n",
    "        sum[i] = sum[i-1] + freq[i-1]\n",
    "    \n",
    "    for L in range (2, n+1):\n",
    "        for i in range(n - L + 2):\n",
    "            \n",
    "            j = i + L - 1\n",
    "            if i >= n or j >= n:\n",
    "                break\n",
    "            dp[i][j] = 100000009\n",
    "            \n",
    "            for root in range(i, j + 1):\n",
    "                cost = 0\n",
    "                if (root > i):\n",
    "                    cost += dp[i][root - 1]\n",
    "                if (root < j):\n",
    "                    cost += dp[root + 1][j]\n",
    "                cost += (sum[jص+1] - sum[i])\n",
    "                if (cost < dp[i][j]):\n",
    "                    dp[i][j] = cost\n",
    "    return dp[0][n - 1]"
   ]
  },
  {
   "cell_type": "code",
   "execution_count": 44,
   "id": "91108377",
   "metadata": {},
   "outputs": [
    {
     "name": "stdout",
     "output_type": "stream",
     "text": [
      "Cost of Optimal BST is :  118\n"
     ]
    }
   ],
   "source": [
    "keys = [10, 12]\n",
    "freq = [34, 50]\n",
    "n = len(keys)\n",
    "print(\"Cost of Optimal BST is : \",optimal_bst(keys, freq, n))"
   ]
  },
  {
   "cell_type": "code",
   "execution_count": null,
   "id": "7f0c6e36",
   "metadata": {},
   "outputs": [],
   "source": []
  }
 ],
 "metadata": {
  "kernelspec": {
   "display_name": "Python 3",
   "language": "python",
   "name": "python3"
  },
  "language_info": {
   "codemirror_mode": {
    "name": "ipython",
    "version": 3
   },
   "file_extension": ".py",
   "mimetype": "text/x-python",
   "name": "python",
   "nbconvert_exporter": "python",
   "pygments_lexer": "ipython3",
   "version": "3.8.8"
  }
 },
 "nbformat": 4,
 "nbformat_minor": 5
}
