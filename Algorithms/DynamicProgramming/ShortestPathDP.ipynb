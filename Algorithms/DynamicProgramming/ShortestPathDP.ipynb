{
 "cells": [
  {
   "cell_type": "markdown",
   "id": "b92f5480",
   "metadata": {},
   "source": [
    "# Shortest path in weighted graphs\n",
    "\n",
    "## find the sp between every edge:\n",
    "\n",
    "##### > floyd-warshal algorithm (dynamic programming)\n",
    "\n",
    "## find the sp between a source and other nodes:\n",
    "\n",
    "##### > dijkstra algorithm (greedy)\n",
    "##### > bellman-ford algorithm (dynamic programming)\n",
    "##### > sssp (fast dijkstra in DAG)"
   ]
  },
  {
   "cell_type": "markdown",
   "id": "03096b51",
   "metadata": {},
   "source": [
    "## floyd-warshal implementation\n",
    "\n",
    "#### Timecomplexity => O(n^3)"
   ]
  },
  {
   "cell_type": "code",
   "execution_count": 5,
   "id": "957bba0f",
   "metadata": {},
   "outputs": [],
   "source": [
    "def floyd(adj_matrix, nodes):\n",
    "    dp = [[0 for x in range(nodes)] for y in range (nodes)]\n",
    "    for i in range (nodes):\n",
    "        for j in range(nodes):\n",
    "            dp[i][j] = adj_matrix[i][j]\n",
    "    \n",
    "    for k in range (nodes):\n",
    "        for i in range (nodes):\n",
    "            for j in range (nodes):\n",
    "                dp[i][j] = min (dp[i][j], dp[i][k] + dp[k][j])\n",
    "                \n",
    "    return dp"
   ]
  },
  {
   "cell_type": "markdown",
   "id": "b520ddc5",
   "metadata": {},
   "source": [
    "## bellman-ford implementation\n",
    "\n",
    "#### Timecomplexity => O(N*E)"
   ]
  },
  {
   "cell_type": "code",
   "execution_count": 14,
   "id": "ec18dc28",
   "metadata": {},
   "outputs": [],
   "source": [
    "def bellman_ford (graph, nodes, source):\n",
    "    infi = 1000009\n",
    "    dp = [infi for x in range(nodes)]\n",
    "    dp[source] = 0\n",
    "    \n",
    "    for i in range (nodes):\n",
    "        for u, v, w in graph:\n",
    "            if dp[u] != infi and dp[u] + w < dp[v]: \n",
    "                        dp[v] = dp[u] + w \n",
    "            \n",
    "    return dp"
   ]
  },
  {
   "cell_type": "code",
   "execution_count": 15,
   "id": "fa288a41",
   "metadata": {},
   "outputs": [],
   "source": [
    "def input_graph():\n",
    "    nodes = int(input())\n",
    "    edges = int(input())\n",
    "    graph = []\n",
    "    for i in range (edges):\n",
    "        u, v, w = map(int, input().split())\n",
    "        graph.append((u, v, w))\n",
    "    return bellman_ford(graph, nodes, 0)"
   ]
  },
  {
   "cell_type": "code",
   "execution_count": 16,
   "id": "3675a772",
   "metadata": {},
   "outputs": [
    {
     "name": "stdout",
     "output_type": "stream",
     "text": [
      "6\n",
      "7\n",
      "0 1 2\n",
      "0 2 3\n",
      "1 2 1\n",
      "2 3 1\n",
      "2 4 1\n",
      "3 4 2\n",
      "2 5 100\n"
     ]
    },
    {
     "data": {
      "text/plain": [
       "[0, 2, 3, 4, 4, 103]"
      ]
     },
     "execution_count": 16,
     "metadata": {},
     "output_type": "execute_result"
    }
   ],
   "source": [
    "input_graph()"
   ]
  }
 ],
 "metadata": {
  "kernelspec": {
   "display_name": "Python 3",
   "language": "python",
   "name": "python3"
  },
  "language_info": {
   "codemirror_mode": {
    "name": "ipython",
    "version": 3
   },
   "file_extension": ".py",
   "mimetype": "text/x-python",
   "name": "python",
   "nbconvert_exporter": "python",
   "pygments_lexer": "ipython3",
   "version": "3.8.8"
  }
 },
 "nbformat": 4,
 "nbformat_minor": 5
}
