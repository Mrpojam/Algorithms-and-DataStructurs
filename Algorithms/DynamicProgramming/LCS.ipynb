{
 "cells": [
  {
   "cell_type": "markdown",
   "id": "0162e99b",
   "metadata": {},
   "source": [
    "# Longest Common Subsequence\n",
    "\n",
    "dp[i][j] means lcs in A[1->i] and B[1->j]"
   ]
  },
  {
   "cell_type": "markdown",
   "id": "1a25a9f6",
   "metadata": {},
   "source": [
    "abcde\n",
    "bdre\n",
    "\n",
    "lcs => bde\n",
    "len(lcs) = 3"
   ]
  },
  {
   "cell_type": "code",
   "execution_count": 19,
   "id": "1082ef76",
   "metadata": {},
   "outputs": [],
   "source": [
    "def lcs(A , B):\n",
    "    m = len(A)\n",
    "    n = len(B)\n",
    "    print(n, m)\n",
    "    dp = [[0 for i in range(n+1)] for i in range(m+1)]\n",
    "    for i in range(m+1):\n",
    "        for j in range(n+1):\n",
    "            if i == 0 or j == 0 :\n",
    "                dp[i][j] = 0\n",
    "            elif A[i-1] == B[j-1]:\n",
    "                dp[i][j] = dp[i-1][j-1]+1\n",
    "            else:\n",
    "                dp[i][j] = max(dp[i-1][j] , dp[i][j-1])\n",
    "    for i in range(m+1):\n",
    "        print (dp[i])\n",
    "    return dp[m][n]"
   ]
  },
  {
   "cell_type": "code",
   "execution_count": 20,
   "id": "c9e533b9",
   "metadata": {},
   "outputs": [
    {
     "name": "stdout",
     "output_type": "stream",
     "text": [
      "4 5\n",
      "[0, 0, 0, 0, 0]\n",
      "[0, 0, 0, 0, 0]\n",
      "[0, 1, 1, 1, 1]\n",
      "[0, 1, 1, 1, 1]\n",
      "[0, 1, 2, 2, 2]\n",
      "[0, 1, 2, 2, 3]\n",
      "3\n"
     ]
    }
   ],
   "source": [
    "print(lcs('abcde','bdre'))"
   ]
  },
  {
   "cell_type": "code",
   "execution_count": null,
   "id": "133c9f1c",
   "metadata": {},
   "outputs": [],
   "source": []
  }
 ],
 "metadata": {
  "kernelspec": {
   "display_name": "Python 3",
   "language": "python",
   "name": "python3"
  },
  "language_info": {
   "codemirror_mode": {
    "name": "ipython",
    "version": 3
   },
   "file_extension": ".py",
   "mimetype": "text/x-python",
   "name": "python",
   "nbconvert_exporter": "python",
   "pygments_lexer": "ipython3",
   "version": "3.8.8"
  }
 },
 "nbformat": 4,
 "nbformat_minor": 5
}
