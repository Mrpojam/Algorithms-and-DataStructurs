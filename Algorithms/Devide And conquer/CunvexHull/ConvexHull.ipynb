{
 "cells": [
  {
   "cell_type": "markdown",
   "id": "f1724134",
   "metadata": {},
   "source": [
    "# Convex Hull problem using devide and conquer\n",
    "<img src = \"Pic/CH.png\">"
   ]
  },
  {
   "cell_type": "markdown",
   "id": "b6c42d49",
   "metadata": {},
   "source": [
    "### step 1:\n",
    "#### find the mid \n",
    "\n",
    "\n",
    "### step 2:\n",
    "#### find answer for each half\n",
    "<img src=\"Pic/CH1.png\">\n",
    "\n",
    "### step 3:\n",
    "#### merge to halfs\n",
    "<img src=\"Pic/CH2.jpg\">"
   ]
  },
  {
   "cell_type": "code",
   "execution_count": null,
   "id": "2b4018c2",
   "metadata": {},
   "outputs": [],
   "source": []
  }
 ],
 "metadata": {
  "kernelspec": {
   "display_name": "Python 3 (ipykernel)",
   "language": "python",
   "name": "python3"
  },
  "language_info": {
   "codemirror_mode": {
    "name": "ipython",
    "version": 3
   },
   "file_extension": ".py",
   "mimetype": "text/x-python",
   "name": "python",
   "nbconvert_exporter": "python",
   "pygments_lexer": "ipython3",
   "version": "3.8.5"
  }
 },
 "nbformat": 4,
 "nbformat_minor": 5
}
