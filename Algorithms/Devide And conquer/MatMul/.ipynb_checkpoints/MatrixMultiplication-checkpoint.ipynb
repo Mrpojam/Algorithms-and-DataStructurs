{
 "cells": [
  {
   "cell_type": "markdown",
   "id": "541ff7ec",
   "metadata": {},
   "source": [
    "# Matrix Multiplication using Devide and Conquer\n",
    "\n",
    "<img src=\"m.png\">\n",
    "\n",
    "### T(n) = 8T(n/2) + O(n^2) = O(n^3)"
   ]
  },
  {
   "cell_type": "markdown",
   "id": "6bf44438",
   "metadata": {},
   "source": [
    "<img src=\"m2.png\">\n",
    "\n",
    "### T(n) = 7T(n/2) + O(n^2) = O(N^2.8...)  "
   ]
  },
  {
   "cell_type": "code",
   "execution_count": 1,
   "id": "7f0089bc",
   "metadata": {},
   "outputs": [],
   "source": [
    "import numpy as np"
   ]
  },
  {
   "cell_type": "code",
   "execution_count": 34,
   "id": "366d3444",
   "metadata": {},
   "outputs": [],
   "source": [
    "def Mul (A, B):\n",
    "    \n",
    "    if len(A) == 1:\n",
    "        return A * B\n",
    "    \n",
    "    #split A to a, b, c, d\n",
    "    arow, acol = A.shape\n",
    "    a = A[:arow//2, :acol//2]\n",
    "    b = A[:arow//2, acol//2:]\n",
    "    c = A[arow//2:, :acol//2]\n",
    "    d = A[arow//2:, acol//2:]\n",
    "   \n",
    "    #split B to e, f, g, h\n",
    "    brow, bcol = B.shape\n",
    "    e = B[:brow//2, :bcol//2]\n",
    "    f = B[:brow//2, bcol//2:]\n",
    "    g = B[brow//2:, :bcol//2]\n",
    "    h = B[brow//2:, bcol//2:]\n",
    "    \n",
    "    #calculate p0, p1, ... p6\n",
    "    p = []\n",
    "    p.append(Mul(a, f - h))\n",
    "    p.append(Mul(a+b, h))\n",
    "    p.append(Mul(c + d, e))\n",
    "    p.append(Mul(d, g - e))\n",
    "    p.append(Mul(a + d, e + h)) \n",
    "    p.append(Mul(b - d, g + h))\n",
    "    p.append(Mul(a - c, e + f))\n",
    "    \n",
    "    # c = x y\n",
    "    #     z k\n",
    "    x = p[4] + p[3] - p[1] + p[5]\n",
    "    y = p[0] + p[1]\n",
    "    z = p[2] + p[3]\n",
    "    k = p[0] + p[4] - p[2] - p[6]\n",
    "    \n",
    "    return np.vstack((np.hstack((x, y)), np.hstack((z, k))))"
   ]
  },
  {
   "cell_type": "code",
   "execution_count": 47,
   "id": "70ab1528",
   "metadata": {},
   "outputs": [
    {
     "name": "stdout",
     "output_type": "stream",
     "text": [
      "[[ 6  8]\n",
      " [16 20]]\n",
      "###\n",
      "[[ 6  8]\n",
      " [16 20]]\n"
     ]
    }
   ],
   "source": [
    "A = np.array ([[1, 2],\n",
    "               [3, 4]])\n",
    "\n",
    "B = np.array ([[4, 4],\n",
    "               [1, 2]])\n",
    "print (Mul(A, B))\n",
    "print (\"###\")\n",
    "print(np.matmul(A, B))"
   ]
  },
  {
   "cell_type": "code",
   "execution_count": 36,
   "id": "b1f28a62",
   "metadata": {},
   "outputs": [
    {
     "name": "stdout",
     "output_type": "stream",
     "text": [
      "[[100 100 100   1]\n",
      " [  5   5   5   1]\n",
      " [  1   1   1   1]\n",
      " [  2   2   2   2]]\n",
      "###\n",
      "[[100 100 100   1]\n",
      " [  5   5   5   1]\n",
      " [  1   1   1   1]\n",
      " [  2   2   2   2]]\n"
     ]
    }
   ],
   "source": [
    "A = np.array ([[1, 0, 0, 0],\n",
    "              [0, 1, 0, 0],\n",
    "              [0, 0, 1, 0],\n",
    "              [0, 0, 0, 1]])\n",
    "\n",
    "B = np.array ([[100, 100, 100, 1],\n",
    "              [5, 5, 5, 1],\n",
    "               [1, 1, 1, 1],\n",
    "              [2, 2, 2, 2]])\n",
    "\n",
    "print (Mul(A, B))\n",
    "print (\"###\")\n",
    "print(np.matmul(A, B))"
   ]
  }
 ],
 "metadata": {
  "kernelspec": {
   "display_name": "Python 3 (ipykernel)",
   "language": "python",
   "name": "python3"
  },
  "language_info": {
   "codemirror_mode": {
    "name": "ipython",
    "version": 3
   },
   "file_extension": ".py",
   "mimetype": "text/x-python",
   "name": "python",
   "nbconvert_exporter": "python",
   "pygments_lexer": "ipython3",
   "version": "3.8.5"
  }
 },
 "nbformat": 4,
 "nbformat_minor": 5
}
