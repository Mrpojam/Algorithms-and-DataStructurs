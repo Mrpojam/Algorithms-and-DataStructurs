{
 "cells": [
  {
   "cell_type": "markdown",
   "id": "2021bd3a",
   "metadata": {},
   "source": [
    "# Quick Sort"
   ]
  },
  {
   "cell_type": "markdown",
   "id": "d2843727",
   "metadata": {},
   "source": [
    "Like Merge Sort, QuickSort is a Divide and Conquer algorithm.\n",
    "\n",
    "It picks an element as pivot and partitions the given array around the picked pivot.\n",
    "\n",
    "There are many different versions of quickSort that pick pivot in different ways. "
   ]
  },
  {
   "cell_type": "code",
   "execution_count": 9,
   "id": "55d0b3da",
   "metadata": {},
   "outputs": [],
   "source": [
    "def part (A, start, end):\n",
    "    i = start - 1\n",
    "    piv = A[end]\n",
    "    for j in range (start, end):\n",
    "        if A[j] <= piv:\n",
    "            i += 1\n",
    "            A[j], A[i] = A[i], A[j]\n",
    "    A[i+1], A[end] = A[end], A[i+1]\n",
    "    return i+1\n",
    "\n",
    "def quick (A, start, end):\n",
    "    if len(A) == 1:\n",
    "        return A\n",
    "    if start < end:\n",
    "        piv = part(A, start, end)\n",
    "        quick(A, start, piv-1)\n",
    "        quick(A, piv+1, end)\n"
   ]
  },
  {
   "cell_type": "markdown",
   "id": "2b7d590e",
   "metadata": {},
   "source": [
    "Time complexity => O(N2) (if we choose pivote random o(n2) > time > o(nlog) by expirience)"
   ]
  },
  {
   "cell_type": "code",
   "execution_count": 10,
   "id": "43f03472",
   "metadata": {},
   "outputs": [
    {
     "name": "stdout",
     "output_type": "stream",
     "text": [
      "-8 8 2 -15 1222 1\n",
      "[-15, -8, 1, 2, 8, 1222]\n"
     ]
    }
   ],
   "source": [
    "arr = list(map(int, input().split()))\n",
    "quick(arr, 0, len(arr)-1)\n",
    "print(arr)"
   ]
  },
  {
   "cell_type": "code",
   "execution_count": null,
   "id": "1986fab7",
   "metadata": {},
   "outputs": [],
   "source": []
  },
  {
   "cell_type": "code",
   "execution_count": null,
   "id": "1a5fe47e",
   "metadata": {},
   "outputs": [],
   "source": []
  }
 ],
 "metadata": {
  "kernelspec": {
   "display_name": "Python 3",
   "language": "python",
   "name": "python3"
  },
  "language_info": {
   "codemirror_mode": {
    "name": "ipython",
    "version": 3
   },
   "file_extension": ".py",
   "mimetype": "text/x-python",
   "name": "python",
   "nbconvert_exporter": "python",
   "pygments_lexer": "ipython3",
   "version": "3.8.8"
  }
 },
 "nbformat": 4,
 "nbformat_minor": 5
}
