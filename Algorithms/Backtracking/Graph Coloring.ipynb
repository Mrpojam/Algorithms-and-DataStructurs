{
 "cells": [
  {
   "cell_type": "markdown",
   "id": "147a1aef",
   "metadata": {},
   "source": [
    "# Graph Coloring Problem\n",
    "\n",
    "### T(n) = O(m ^ N)"
   ]
  },
  {
   "cell_type": "code",
   "execution_count": 19,
   "id": "702263a7",
   "metadata": {},
   "outputs": [],
   "source": [
    " def graphColourUtil(N, graph, m, colour, v):\n",
    "    if v == N:\n",
    "        return True\n",
    "\n",
    "    for c in range(0, m):\n",
    "        flag = True\n",
    "        for i in range (N):\n",
    "            if graph[v][i] == 1 and colour[i] == c:\n",
    "                flag = False\n",
    "                break\n",
    "\n",
    "        if flag == True:\n",
    "            colour[v] = c\n",
    "            if graphColourUtil(N, graph, m, colour, v + 1) == True:\n",
    "                return True\n",
    "            colour[v] = -1\n"
   ]
  },
  {
   "cell_type": "code",
   "execution_count": 31,
   "id": "9d48786d",
   "metadata": {},
   "outputs": [
    {
     "name": "stdout",
     "output_type": "stream",
     "text": [
      "There is no color for this graph\n"
     ]
    }
   ],
   "source": [
    "graph = [[0, 1, 1, 1, 1],\n",
    "         [1, 0, 1, 0, 0],\n",
    "         [1, 1, 0, 0, 0],\n",
    "         [1, 0, 0, 0, 1],\n",
    "        [1, 0, 0, 1, 0]]\n",
    "m = 2\n",
    "colour = [-1 for i in range(5)]\n",
    "if graphColourUtil(5, graph, m, colour, 0) == None:\n",
    "    print(\"There is no color for this graph\")\n",
    "else:\n",
    "    for i in range(5):\n",
    "        print (\"Color of \", i, \" : \", colour[i])"
   ]
  },
  {
   "cell_type": "code",
   "execution_count": null,
   "id": "1104175f",
   "metadata": {},
   "outputs": [],
   "source": []
  }
 ],
 "metadata": {
  "kernelspec": {
   "display_name": "Python 3",
   "language": "python",
   "name": "python3"
  },
  "language_info": {
   "codemirror_mode": {
    "name": "ipython",
    "version": 3
   },
   "file_extension": ".py",
   "mimetype": "text/x-python",
   "name": "python",
   "nbconvert_exporter": "python",
   "pygments_lexer": "ipython3",
   "version": "3.8.8"
  }
 },
 "nbformat": 4,
 "nbformat_minor": 5
}
